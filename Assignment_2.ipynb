{
  "nbformat": 4,
  "nbformat_minor": 0,
  "metadata": {
    "colab": {
      "provenance": [],
      "authorship_tag": "ABX9TyPlqycx9u7lhSx8/zXLHl/N",
      "include_colab_link": true
    },
    "kernelspec": {
      "name": "python3",
      "display_name": "Python 3"
    },
    "language_info": {
      "name": "python"
    }
  },
  "cells": [
    {
      "cell_type": "markdown",
      "metadata": {
        "id": "view-in-github",
        "colab_type": "text"
      },
      "source": [
        "<a href=\"https://colab.research.google.com/github/x4ddy/CC_Coursework/blob/main/Assignment_2.ipynb\" target=\"_parent\"><img src=\"https://colab.research.google.com/assets/colab-badge.svg\" alt=\"Open In Colab\"/></a>"
      ]
    },
    {
      "cell_type": "markdown",
      "source": [
        "Q1. Create a List L that is defined as= [10, 20, 30, 40, 50, 60, 70, 80].\n",
        "\n",
        "\n",
        "---\n",
        "\n",
        "\n",
        "  i. WAP to add 200 and 300 to L.\n",
        "\n",
        "  ii. WAP to remove 10 and 30 from L.\n",
        "\n",
        "  iii. WAP to sort L in ascending order.\n",
        "  \n",
        "  iv. WAP to sort L in descending order."
      ],
      "metadata": {
        "id": "iVuncpRbyq4Q"
      }
    },
    {
      "cell_type": "code",
      "execution_count": 5,
      "metadata": {
        "colab": {
          "base_uri": "https://localhost:8080/"
        },
        "id": "TUFRJow2ymVi",
        "outputId": "24b75869-b338-4da2-b919-bb295a43c6be"
      },
      "outputs": [
        {
          "output_type": "stream",
          "name": "stdout",
          "text": [
            "[10, 20, 30, 40, 50, 60, 70, 80, 200, 300]\n",
            "[20, 40, 50, 60, 70, 80, 200, 300]\n",
            "[20, 40, 50, 60, 70, 80, 200, 300]\n",
            "[300, 200, 80, 70, 60, 50, 40, 20]\n"
          ]
        }
      ],
      "source": [
        "L = [10, 20, 30, 40, 50, 60, 70, 80]\n",
        "#i\n",
        "L.append(200)\n",
        "L.append(300)\n",
        "print(L)\n",
        "#ii\n",
        "L.remove(10)\n",
        "L.remove(30)\n",
        "print(L)\n",
        "#iii\n",
        "L.sort()\n",
        "print(L)\n",
        "#iv\n",
        "L.sort(reverse=True)\n",
        "print(L)"
      ]
    },
    {
      "cell_type": "markdown",
      "source": [
        "Q2. Create a tuple of marks scored as scores = (45, 89.5, 76, 45.4, 89, 92, 58, 45) and perform the following operations using tuple functions:\n",
        "\n",
        "\n",
        "---\n",
        "\n",
        "\n",
        "i. Identify the highest score and its index in the tuple.\n",
        "\n",
        "ii. Find the lowest score and count how many times it appears.\n",
        "\n",
        "iii. Reverse the tuple and return it as a list.\n",
        "\n",
        "iv. Check if a specific score ‘76’ (input by the user) is present in the tuple and print its first occurrence index, or a message saying it’s not present."
      ],
      "metadata": {
        "id": "9RSKIYrl0JC9"
      }
    },
    {
      "cell_type": "code",
      "source": [
        "t_vals = (45, 89.5, 76, 45.4, 89, 92, 58, 45)\n",
        "#i\n",
        "print(max(t_vals))\n",
        "print(t_vals.index(max(t_vals)))\n",
        "#ii\n",
        "print(min(t_vals))\n",
        "print(t_vals.count(min(t_vals)))\n",
        "#iii\n",
        "print(list(reversed(t_vals)))\n",
        "#iv\n",
        "x = float(input(\"Enter Score : \"))\n",
        "if (x in t_vals):\n",
        "  print(t_vals.index(x))\n",
        "else:\n",
        "  print(\"Not Found\")"
      ],
      "metadata": {
        "colab": {
          "base_uri": "https://localhost:8080/"
        },
        "id": "6spbE8Op0UXZ",
        "outputId": "b8e0aa5f-915f-4ce5-aa86-53a2d3e78fbf"
      },
      "execution_count": 8,
      "outputs": [
        {
          "output_type": "stream",
          "name": "stdout",
          "text": [
            "92\n",
            "5\n",
            "45\n",
            "2\n",
            "[45, 58, 92, 89, 45.4, 76, 89.5, 45]\n",
            "Enter Score : 45.4\n",
            "3\n"
          ]
        }
      ]
    },
    {
      "cell_type": "markdown",
      "source": [
        "Q3. WAP to create a list of 100 random numbers between 100 and 900. Count and print the :\n",
        "\n",
        "\n",
        "---\n",
        "\n",
        "\n",
        "i. All odd numbers\n",
        "\n",
        "ii. All even numbers\n",
        "\n",
        "iii. All prime numbers"
      ],
      "metadata": {
        "id": "wAPGahqD2Uum"
      }
    },
    {
      "cell_type": "code",
      "source": [
        "import random\n",
        "rand_arr = [random.randint(100,900) for _ in range(100)]\n",
        "#i\n",
        "print(\"ODD\")\n",
        "for i in rand_arr:\n",
        "  print(i) if i%2!=0 else \"\"\n",
        "#ii\n",
        "print(\"EVEN\")\n",
        "for i in rand_arr:\n",
        "  print(i) if i%2==0 else \"\"\n",
        "#iii\n",
        "print(\"PRIME\")\n",
        "for i in rand_arr:\n",
        "  for j in range(2,i):\n",
        "    if i%j==0:\n",
        "      break\n",
        "  else:\n",
        "    print(i)"
      ],
      "metadata": {
        "colab": {
          "base_uri": "https://localhost:8080/"
        },
        "id": "jcgq3j1K2ilj",
        "outputId": "9577f41b-d8fe-430e-d9f8-fa3170d02424"
      },
      "execution_count": 11,
      "outputs": [
        {
          "output_type": "stream",
          "name": "stdout",
          "text": [
            "ODD\n",
            "477\n",
            "477\n",
            "577\n",
            "783\n",
            "593\n",
            "753\n",
            "149\n",
            "817\n",
            "707\n",
            "397\n",
            "811\n",
            "393\n",
            "473\n",
            "107\n",
            "679\n",
            "899\n",
            "433\n",
            "791\n",
            "653\n",
            "771\n",
            "461\n",
            "161\n",
            "271\n",
            "591\n",
            "747\n",
            "687\n",
            "539\n",
            "851\n",
            "211\n",
            "729\n",
            "653\n",
            "353\n",
            "387\n",
            "561\n",
            "753\n",
            "839\n",
            "719\n",
            "177\n",
            "841\n",
            "559\n",
            "279\n",
            "801\n",
            "133\n",
            "209\n",
            "553\n",
            "861\n",
            "375\n",
            "EVEN\n",
            "772\n",
            "282\n",
            "214\n",
            "636\n",
            "818\n",
            "700\n",
            "632\n",
            "670\n",
            "360\n",
            "574\n",
            "364\n",
            "788\n",
            "710\n",
            "744\n",
            "754\n",
            "154\n",
            "334\n",
            "542\n",
            "868\n",
            "708\n",
            "874\n",
            "890\n",
            "472\n",
            "844\n",
            "576\n",
            "718\n",
            "278\n",
            "700\n",
            "564\n",
            "498\n",
            "684\n",
            "266\n",
            "428\n",
            "582\n",
            "712\n",
            "214\n",
            "792\n",
            "358\n",
            "678\n",
            "696\n",
            "814\n",
            "604\n",
            "468\n",
            "192\n",
            "846\n",
            "184\n",
            "208\n",
            "778\n",
            "816\n",
            "328\n",
            "740\n",
            "338\n",
            "198\n",
            "PRIME\n",
            "577\n",
            "593\n",
            "149\n",
            "397\n",
            "811\n",
            "107\n",
            "433\n",
            "653\n",
            "461\n",
            "271\n",
            "211\n",
            "653\n",
            "353\n",
            "839\n",
            "719\n"
          ]
        }
      ]
    },
    {
      "cell_type": "markdown",
      "source": [
        "Q4. Consider the following two sets, A and B, representing scores of two teams in muliple matches. A = {34, 56, 78, 90} and B = {78, 45, 90, 23} WAP to perform the following operations using set functions:\n",
        "\n",
        "\n",
        "---\n",
        "\n",
        "\n",
        "i. Find the unique scores achieved by both teams (union of sets).\n",
        "\n",
        "ii. Identify the scores that are common to both teams (intersection of sets).\n",
        "\n",
        "iii. Find the scores that are exclusive to each team (symmetric difference).\n",
        "\n",
        "iv. Check if the scores of team A are a subset of team B, and if team B's scores area superset of team A.\n",
        "\n",
        "v. Remove a specific score X (input by the user) from set A if it exists. If not, print a message saying it is not present."
      ],
      "metadata": {
        "id": "KZmQrjzS46J8"
      }
    },
    {
      "cell_type": "code",
      "source": [
        "A = {34, 56, 78, 90}\n",
        "B = {78, 45, 90, 23}\n",
        "\n",
        "# i\n",
        "unique_scores = A | B\n",
        "print(\"Unique scores:\", unique_scores)\n",
        "\n",
        "# ii\n",
        "common_scores = A & B\n",
        "print(\"Common scores:\", common_scores)\n",
        "\n",
        "# iii\n",
        "exclusive_scores = A ^ B\n",
        "print(\"Exclusive scores:\", exclusive_scores)\n",
        "\n",
        "# iv\n",
        "is_subset = A.issubset(B)\n",
        "print(\"Is A a subset of B?\", is_subset)\n",
        "\n",
        "is_superset = B.issuperset(A)\n",
        "print(\"Is B a superset of A?\", is_superset)\n",
        "\n",
        "# v. Remove a specific score from set A\n",
        "X = int(input(\"Enter a score to remove from A: \"))\n",
        "if X in A:\n",
        "    A.remove(X)\n",
        "    print(\"Set A after removal:\", A)\n",
        "else:\n",
        "    print(f\"Score {X} not found in set A.\")"
      ],
      "metadata": {
        "colab": {
          "base_uri": "https://localhost:8080/"
        },
        "id": "618UBvrJ5foK",
        "outputId": "b259adb0-d319-4c81-c64a-be96f833bbe6"
      },
      "execution_count": 14,
      "outputs": [
        {
          "output_type": "stream",
          "name": "stdout",
          "text": [
            "Unique scores: {34, 45, 78, 23, 56, 90}\n",
            "Common scores: {90, 78}\n",
            "Exclusive scores: {34, 45, 23, 56}\n",
            "Is A a subset of B? False\n",
            "Is B a superset of A? False\n",
            "Enter a score to remove from A: 56\n",
            "Set A after removal: {34, 90, 78}\n"
          ]
        }
      ]
    },
    {
      "cell_type": "markdown",
      "source": [
        "Q5. Write a program to rename a key city to a location in the following dictionary."
      ],
      "metadata": {
        "id": "flIWftV_6CnB"
      }
    },
    {
      "cell_type": "code",
      "source": [
        "sample_dict = {\n",
        "  \"name\": \"Kelly\",\n",
        "  \"age\":25,\n",
        "  \"salary\": 8000,\n",
        "  \"city\": \"New york\"\n",
        "}\n",
        "sample_dict[\"location\"] = sample_dict.pop('city')\n",
        "print(sample_dict)"
      ],
      "metadata": {
        "colab": {
          "base_uri": "https://localhost:8080/"
        },
        "id": "z-IuNn9G6KLW",
        "outputId": "67952d03-ad7e-48f0-da89-b9adcc875788"
      },
      "execution_count": 15,
      "outputs": [
        {
          "output_type": "stream",
          "name": "stdout",
          "text": [
            "{'name': 'Kelly', 'age': 25, 'salary': 8000, 'location': 'New york'}\n"
          ]
        }
      ]
    }
  ]
}