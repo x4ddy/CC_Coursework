{
  "cells": [
    {
      "cell_type": "markdown",
      "metadata": {
        "id": "view-in-github",
        "colab_type": "text"
      },
      "source": [
        "<a href=\"https://colab.research.google.com/github/x4ddy/CC_Coursework/blob/main/Assignment_4.ipynb\" target=\"_parent\"><img src=\"https://colab.research.google.com/assets/colab-badge.svg\" alt=\"Open In Colab\"/></a>"
      ]
    },
    {
      "cell_type": "code",
      "execution_count": null,
      "metadata": {
        "id": "COsY_C97-V3o"
      },
      "outputs": [],
      "source": [
        "import numpy as np"
      ]
    },
    {
      "cell_type": "markdown",
      "metadata": {
        "id": "oiuCHtW0Fb3F"
      },
      "source": [
        "**Q.1** Write a program to create a NumPy 1D-array with 5 elements and perform basic operations like:\n",
        "\n",
        "a) Addition of 2 in all the element\n",
        "\n",
        "b) Multiply 3 with all the elements\n",
        "\n",
        "c) Divide every element by 2"
      ]
    },
    {
      "cell_type": "code",
      "execution_count": null,
      "metadata": {
        "colab": {
          "base_uri": "https://localhost:8080/"
        },
        "id": "9CuNyUDCESP2",
        "outputId": "75e1a62d-07e1-4fbf-d8ed-02023b02c626"
      },
      "outputs": [
        {
          "name": "stdout",
          "output_type": "stream",
          "text": [
            "[ 4  6  8 10 11]\n",
            "[ 6 12 18 24 27]\n",
            "[1.  2.  3.  4.  4.5]\n"
          ]
        }
      ],
      "source": [
        "arr1 = np.array([2,4,6,8,9])\n",
        "arr2 = arr1+2\n",
        "print(arr2)\n",
        "arr3 = arr1*3\n",
        "print(arr3)\n",
        "arr4 = arr1/2\n",
        "print(arr4)\n"
      ]
    },
    {
      "cell_type": "markdown",
      "metadata": {
        "id": "quWEvknxF5VH"
      },
      "source": [
        "**Q.2** Questions on Basic NumPy Array:\n",
        "\n",
        "**a)** Reverse the NumPy array: arr = np.array([1, 2, 3, 6, 4, 5])"
      ]
    },
    {
      "cell_type": "code",
      "execution_count": null,
      "metadata": {
        "colab": {
          "base_uri": "https://localhost:8080/"
        },
        "id": "1_tPwxNgF_l0",
        "outputId": "b8508825-c06d-4454-8dba-223086ef0479"
      },
      "outputs": [
        {
          "name": "stdout",
          "output_type": "stream",
          "text": [
            "[5 4 6 3 2 1]\n"
          ]
        }
      ],
      "source": [
        "arr = np.array([1, 2, 3, 6, 4, 5])\n",
        "print(arr[::-1])"
      ]
    },
    {
      "cell_type": "markdown",
      "metadata": {
        "id": "XUBdltL3GAMP"
      },
      "source": [
        "**Q.2**\n",
        "\n",
        "**b)** Find the most frequent value and their indice(s) in the following arrays:\n",
        "i. x = np.array([1,2,3,4,5,1,2,1,1,1])\n",
        "ii. y = np.array([1, 1, 1, 2, 3, 4, 2, 4, 3, 3, ])"
      ]
    },
    {
      "cell_type": "code",
      "execution_count": null,
      "metadata": {
        "colab": {
          "base_uri": "https://localhost:8080/"
        },
        "id": "0Tvdbw4HGM5Q",
        "outputId": "dec2dd1e-4c97-48b1-a655-c15e508b2e9b"
      },
      "outputs": [
        {
          "name": "stdout",
          "output_type": "stream",
          "text": [
            "[1 2 3 4 5]\n",
            "[5 2 1 1 1]\n",
            "Element with the most occurences : 1\n",
            "[1 2 3 4]\n",
            "[3 2 3 2]\n",
            "Element with the most occurences : 1\n"
          ]
        }
      ],
      "source": [
        "x = np.array([1,2,3,4,5,1,2,1,1,1])\n",
        "y = np.array([1, 1, 1, 2, 3, 4, 2, 4, 3, 3, ])\n",
        "elems, counts = np.unique(x, return_counts=True)\n",
        "print(elems)\n",
        "print(counts)\n",
        "print(f'Element with the most occurences : {elems[np.argmax(counts)]}')\n",
        "elemsY, countsY = np.unique(y, return_counts=True)\n",
        "print(elemsY)\n",
        "print(countsY)\n",
        "print(f'Element with the most occurences : {elems[np.argmax(counts)]}')"
      ]
    },
    {
      "cell_type": "markdown",
      "metadata": {
        "id": "LP9hqU0Nfb__"
      },
      "source": [
        "**Q.3** For the given 2-D array arr=np.array([10, 20, 30], [40, 50, 60], [70, 80, 90]), access elements using row and column indices as follows:\n",
        "\n",
        "a) Access 1st row, 2nd column\n",
        "\n",
        "b) Access 3rd row, 1st column"
      ]
    },
    {
      "cell_type": "code",
      "execution_count": null,
      "metadata": {
        "colab": {
          "base_uri": "https://localhost:8080/"
        },
        "id": "MCqX_HLefbcA",
        "outputId": "c9fb6886-b7f9-4bfe-e9da-2543be100d67"
      },
      "outputs": [
        {
          "name": "stdout",
          "output_type": "stream",
          "text": [
            "20\n",
            "70\n"
          ]
        }
      ],
      "source": [
        "arr=np.array([[10, 20, 30], [40, 50, 60], [70, 80, 90]])\n",
        "print(arr[0,1])\n",
        "print(arr[2,0])"
      ]
    },
    {
      "cell_type": "markdown",
      "metadata": {
        "id": "yYDcthXGg2cB"
      },
      "source": [
        "**Q.4** Write program to create an 1-D NumPy array named <<\\Your Name>> with evenly spaced 25 numbers from 10 to 100 using linspace().\n",
        "\n",
        "Print the dimensions of the array, shape, total elements, the data type of each element and total number of bytes consumed by the array.\n",
        "\n",
        " Find the transpose of this array using reshape() attribute.\n",
        "\n",
        "Can we do the same with T attribute?"
      ]
    },
    {
      "cell_type": "code",
      "execution_count": null,
      "metadata": {
        "colab": {
          "base_uri": "https://localhost:8080/"
        },
        "id": "wDoShEfifFKz",
        "outputId": "9f4695a4-66d7-4fd3-928b-fdff9da88254"
      },
      "outputs": [
        {
          "name": "stdout",
          "output_type": "stream",
          "text": [
            "The array formed :[ 10.    13.75  17.5   21.25  25.    28.75  32.5   36.25  40.    43.75\n",
            "  47.5   51.25  55.    58.75  62.5   66.25  70.    73.75  77.5   81.25\n",
            "  85.    88.75  92.5   96.25 100.  ]\n",
            "Dimensions :1\n",
            "Shape: (25,)\n",
            "Elements: 25\n",
            "Data type :float64\n",
            "Bytes per elements: 8\n",
            "Total bytes: 200\n",
            "Reshaped :[[ 10.  ]\n",
            " [ 13.75]\n",
            " [ 17.5 ]\n",
            " [ 21.25]\n",
            " [ 25.  ]\n",
            " [ 28.75]\n",
            " [ 32.5 ]\n",
            " [ 36.25]\n",
            " [ 40.  ]\n",
            " [ 43.75]\n",
            " [ 47.5 ]\n",
            " [ 51.25]\n",
            " [ 55.  ]\n",
            " [ 58.75]\n",
            " [ 62.5 ]\n",
            " [ 66.25]\n",
            " [ 70.  ]\n",
            " [ 73.75]\n",
            " [ 77.5 ]\n",
            " [ 81.25]\n",
            " [ 85.  ]\n",
            " [ 88.75]\n",
            " [ 92.5 ]\n",
            " [ 96.25]\n",
            " [100.  ]]\n",
            "[[ 10.    13.75  17.5   21.25  25.    28.75  32.5   36.25  40.    43.75\n",
            "   47.5   51.25  55.    58.75  62.5   66.25  70.    73.75  77.5   81.25\n",
            "   85.    88.75  92.5   96.25 100.  ]]\n"
          ]
        }
      ],
      "source": [
        "MayankSangwan= np.linspace(10,100,25)\n",
        "print(f'The array formed :{MayankSangwan}')\n",
        "print(f'Dimensions :{MayankSangwan.ndim}')\n",
        "print(f'Shape: {MayankSangwan.shape}')\n",
        "print(f'Elements: {MayankSangwan.size}')\n",
        "print(f'Data type :{MayankSangwan.dtype}')\n",
        "print(f'Bytes per elements: {MayankSangwan.itemsize}')\n",
        "print(f'Total bytes: {MayankSangwan.itemsize * MayankSangwan.size}')\n",
        "print(f'Reshaped :{MayankSangwan.reshape(25,1)}')\n",
        "\n",
        "print(MayankSangwan.reshape(25,1).T)\n",
        "# Since we made a 1-D array there is not any rows or columns and just one dimensional array\n",
        "# so transposing will not affect it in any way"
      ]
    },
    {
      "cell_type": "markdown",
      "metadata": {
        "id": "S8l1TIw-rsrk"
      },
      "source": [
        "**Q5.** Create a 2-D Array of three rows and four columns, named ucs420_<\\your_name>> with following values – 10, 20, 30, 40, 50, 60, 70, 80, 90, 15, 20, 35. Compute the mean, median, max, min, unique elements.\n",
        "\n",
        " Reshape the array to four rows and three columns and name it as reshaped_ ucs420_<\\your_name>>. Resize the array to two rows and three columns and name it as resized_ ucs420_<\\your_name>>."
      ]
    },
    {
      "cell_type": "code",
      "execution_count": null,
      "metadata": {
        "colab": {
          "base_uri": "https://localhost:8080/"
        },
        "id": "LddYxfX8rzbI",
        "outputId": "51309e75-7d74-4112-8928-6f2c22317e04"
      },
      "outputs": [
        {
          "name": "stdout",
          "output_type": "stream",
          "text": [
            "Original :[[10 20 30 40]\n",
            " [50 60 70 80]\n",
            " [90 15 20 35]]\n",
            "Mean: 43.333333333333336\n",
            "Median: 37.5\n",
            "Max: 90\n",
            "Min: 10\n",
            "Unique Elements: [10 15 20 30 35 40 50 60 70 80 90]\n",
            "Their count: [1 1 2 1 1 1 1 1 1 1 1]\n",
            "Reshaped : [[10 20 30]\n",
            " [40 50 60]\n",
            " [70 80 90]\n",
            " [15 20 35]]\n",
            "Resized: [[10 20 30]\n",
            " [40 50 60]]\n"
          ]
        }
      ],
      "source": [
        "ucs420_MayankSangwan = np.array([10, 20, 30, 40, 50, 60, 70, 80, 90, 15, 20, 35])\n",
        "ucs420_MayankSangwan = ucs420_MayankSangwan.reshape(3,4)\n",
        "print(f'Original :{ucs420_MayankSangwan}')\n",
        "\n",
        "print(f'Mean: {np.mean(ucs420_MayankSangwan)}')\n",
        "print(f'Median: {np.median(ucs420_MayankSangwan)}')\n",
        "print(f'Max: {np.max(ucs420_MayankSangwan)}')\n",
        "print(f'Min: {np.min(ucs420_MayankSangwan)}')\n",
        "\n",
        "x,y=np.unique(ucs420_MayankSangwan, return_counts= True)\n",
        "print(f'Unique Elements: {x}')\n",
        "print(f'Their count: {y}')\n",
        "\n",
        "reshaped_ucs420_Mayank = ucs420_MayankSangwan.reshape(4,3)\n",
        "print(f'Reshaped : {reshaped_ucs420_Mayank}')\n",
        "resized_ucs420_MayankSangwan = ucs420_MayankSangwan.copy()\n",
        "resized_ucs420_MayankSangwan.resize(2, 3)\n",
        "print(f'Resized: {resized_ucs420_MayankSangwan}')"
      ]
    }
  ],
  "metadata": {
    "colab": {
      "provenance": [],
      "include_colab_link": true
    },
    "kernelspec": {
      "display_name": "Python 3",
      "name": "python3"
    },
    "language_info": {
      "codemirror_mode": {
        "name": "ipython",
        "version": 3
      },
      "file_extension": ".py",
      "mimetype": "text/x-python",
      "name": "python",
      "nbconvert_exporter": "python",
      "pygments_lexer": "ipython3",
      "version": "3.12.1"
    }
  },
  "nbformat": 4,
  "nbformat_minor": 0
}